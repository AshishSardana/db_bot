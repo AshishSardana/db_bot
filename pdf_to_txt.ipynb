{
 "cells": [
  {
   "cell_type": "code",
   "execution_count": 2,
   "metadata": {},
   "outputs": [],
   "source": [
    "from pypdf import PdfReader\n",
    "import os"
   ]
  },
  {
   "cell_type": "code",
   "execution_count": 3,
   "metadata": {},
   "outputs": [],
   "source": [
    "directory = './books/pdf/'\n",
    "\n",
    "# tuple of <filename, start page, end page>\n",
    "filenames = [(\"David Graeber, David Wengrow - The Dawn of Everything_ A New History of Humanity (2021).pdf\", 15, 526),\n",
    "            (\"David Graeber - Debt_ The First 5,000 Years  -Melville House (2011).pdf\", 9, 399),\n",
    "            (\"David Graeber - Fragments of an Anarchist Anthropology-Prickly Paradigm Press (2004).pdf\", 2, 54),\n",
    "            (\"Graeber, David - The utopia of rules _ on technology, stupidity, and the secret joys of bureaucracy-Melville House (2015).pdf\", 6),\n",
    "            (\"David Graeber - Bullshit Jobs_ A Theory-Simon & Schuster (2018).pdf\", 6)]"
   ]
  },
  {
   "cell_type": "code",
   "execution_count": 5,
   "metadata": {},
   "outputs": [
    {
     "name": "stdout",
     "output_type": "stream",
     "text": [
      "\n"
     ]
    }
   ],
   "source": [
    "file_path = os.path.join(directory, filenames[0][0])\n",
    "reader = PdfReader(file_path)"
   ]
  },
  {
   "cell_type": "code",
   "execution_count": 7,
   "metadata": {},
   "outputs": [
    {
     "name": "stdout",
     "output_type": "stream",
     "text": [
      "1\n",
      "Farewell to Humanity’ s Childhood\n",
      "Or, why this is not a book about the origins of inequality\n",
      "‘This mood makes itself felt everywher e, politically , socially , and\n",
      "philosophically . We are living in what the Gr eeks called the καιρóς\n",
      "(Kair os) – the right time – for a “metamorphosis of the gods,” i.e. of\n",
      "the fundamental principles and symbols.’\n",
      "C. G. Jung, The Undiscover ed Self  (1958)\n",
      "Most of human history is irreparably lost to us. Our species, Homo sapiens ,\n",
      "has existed for at least 200,000 years, but for most of that time we have next\n",
      "to no idea what was happening. In northern Spain, for instance, at the cave\n",
      "of Altamira, paintings and engravings were created over a period of at least\n",
      "10,000 years, between around 25,000 and 15,000 BC. Presumably , a lot of\n",
      "dramatic events occurred during this period. W e have no way of knowing\n",
      "what most of them were.\n",
      "This is of little consequence to most people, since most people rarely\n",
      "think about the broad sweep of human history anyway . They don’ t have\n",
      "much reason to. Insofar as the question comes up at all, it’ s usually when\n",
      "reﬂecting on why the world seems to be in such a mess and why human\n",
      "beings so often treat each other badly – the reasons for war , greed,\n",
      "exploitation, systematic indif ference to others’ suf fering. W ere we always\n",
      "like that, or did something, at some point, go terribly wrong?\n",
      "It is basically a theological debate. Essentially the question is: are\n",
      "humans innately good or innately evil? But if you think about it, the\n",
      "question, framed in these terms, makes very little sense. ‘Good’ and ‘evil’\n",
      "are purely human concepts. It would never occur to anyone to argue about\n",
      "whether a ﬁsh, or a tree, were good or evil, because ‘good’ and ‘evil’ are\n"
     ]
    }
   ],
   "source": [
    "page = reader.pages[14]\n",
    "print(page.extract_text())"
   ]
  },
  {
   "cell_type": "markdown",
   "metadata": {},
   "source": [
    "## Extract text from all the pages"
   ]
  },
  {
   "cell_type": "code",
   "execution_count": 10,
   "metadata": {},
   "outputs": [
    {
     "ename": "AttributeError",
     "evalue": "'PdfReader' object has no attribute 'numPages'",
     "output_type": "error",
     "traceback": [
      "\u001b[0;31m---------------------------------------------------------------------------\u001b[0m",
      "\u001b[0;31mAttributeError\u001b[0m                            Traceback (most recent call last)",
      "Cell \u001b[0;32mIn[10], line 11\u001b[0m\n\u001b[1;32m      8\u001b[0m     \u001b[38;5;28;01mreturn\u001b[39;00m text\n\u001b[1;32m     10\u001b[0m \u001b[38;5;66;03m# Replace 'your_pdf_file.pdf' with the path to your PDF file\u001b[39;00m\n\u001b[0;32m---> 11\u001b[0m pdf_text \u001b[38;5;241m=\u001b[39m \u001b[43mextract_text_from_pdf\u001b[49m\u001b[43m(\u001b[49m\u001b[43mfile_path\u001b[49m\u001b[43m)\u001b[49m\n\u001b[1;32m     13\u001b[0m \u001b[38;5;66;03m# Print or manipulate the extracted text as needed\u001b[39;00m\n\u001b[1;32m     14\u001b[0m \u001b[38;5;28mprint\u001b[39m(pdf_text)\n",
      "Cell \u001b[0;32mIn[10], line 4\u001b[0m, in \u001b[0;36mextract_text_from_pdf\u001b[0;34m(file_path)\u001b[0m\n\u001b[1;32m      2\u001b[0m text \u001b[38;5;241m=\u001b[39m \u001b[38;5;124m\"\u001b[39m\u001b[38;5;124m\"\u001b[39m\n\u001b[1;32m      3\u001b[0m reader \u001b[38;5;241m=\u001b[39m PdfReader(file_path)\n\u001b[0;32m----> 4\u001b[0m num_pages \u001b[38;5;241m=\u001b[39m \u001b[43mreader\u001b[49m\u001b[38;5;241;43m.\u001b[39;49m\u001b[43mnumPages\u001b[49m\n\u001b[1;32m      5\u001b[0m \u001b[38;5;28;01mfor\u001b[39;00m page_num \u001b[38;5;129;01min\u001b[39;00m \u001b[38;5;28mrange\u001b[39m(num_pages):\n\u001b[1;32m      6\u001b[0m     page \u001b[38;5;241m=\u001b[39m reader\u001b[38;5;241m.\u001b[39mpages(page_num)\n",
      "\u001b[0;31mAttributeError\u001b[0m: 'PdfReader' object has no attribute 'numPages'"
     ]
    }
   ],
   "source": [
    "def extract_text_from_pdf(file_path):\n",
    "    text = \"\"\n",
    "    reader = PdfReader(file_path)\n",
    "    num_pages = reader.numPages\n",
    "    for page_num in range(num_pages):\n",
    "        page = reader.pages(page_num)\n",
    "        text += page.extract_text()\n",
    "    return text\n",
    "\n",
    "# Replace 'your_pdf_file.pdf' with the path to your PDF file\n",
    "pdf_text = extract_text_from_pdf(file_path)\n",
    "\n",
    "# Print or manipulate the extracted text as needed\n",
    "print(pdf_text)"
   ]
  },
  {
   "cell_type": "code",
   "execution_count": 14,
   "metadata": {},
   "outputs": [
    {
     "data": {
      "text/plain": [
       "736"
      ]
     },
     "execution_count": 14,
     "metadata": {},
     "output_type": "execute_result"
    }
   ],
   "source": [
    "len(reader.pages)"
   ]
  },
  {
   "cell_type": "markdown",
   "metadata": {},
   "source": [
    "## Post processing"
   ]
  },
  {
   "cell_type": "code",
   "execution_count": null,
   "metadata": {},
   "outputs": [],
   "source": [
    "def replace_ligatures(text: str) -> str:\n",
    "    ligatures = {\n",
    "        \"ﬀ\": \"ff\",\n",
    "        \"ﬁ\": \"fi\",\n",
    "        \"ﬂ\": \"fl\",\n",
    "        \"ﬃ\": \"ffi\",\n",
    "        \"ﬄ\": \"ffl\",\n",
    "        \"ﬅ\": \"ft\",\n",
    "        \"ﬆ\": \"st\",\n",
    "        # \"Ꜳ\": \"AA\",\n",
    "        # \"Æ\": \"AE\",\n",
    "        \"ꜳ\": \"aa\",\n",
    "    }\n",
    "    for search, replace in ligatures.items():\n",
    "        text = text.replace(search, replace)\n",
    "    return text\n",
    "\n",
    "from typing import List\n",
    "\n",
    "\n",
    "def remove_hyphens(text: str) -> str:\n",
    "    \"\"\"\n",
    "\n",
    "    This fails for:\n",
    "    * Natural dashes: well-known, self-replication, use-cases, non-semantic,\n",
    "                      Post-processing, Window-wise, viewpoint-dependent\n",
    "    * Trailing math operands: 2 - 4\n",
    "    * Names: Lopez-Ferreras, VGG-19, CIFAR-100\n",
    "    \"\"\"\n",
    "    lines = [line.rstrip() for line in text.split(\"\\n\")]\n",
    "\n",
    "    # Find dashes\n",
    "    line_numbers = []\n",
    "    for line_no, line in enumerate(lines[:-1]):\n",
    "        if line.endswith(\"-\"):\n",
    "            line_numbers.append(line_no)\n",
    "\n",
    "    # Replace\n",
    "    for line_no in line_numbers:\n",
    "        lines = dehyphenate(lines, line_no)\n",
    "\n",
    "    return \"\\n\".join(lines)\n",
    "\n",
    "\n",
    "def dehyphenate(lines: List[str], line_no: int) -> List[str]:\n",
    "    next_line = lines[line_no + 1]\n",
    "    word_suffix = next_line.split(\" \")[0]\n",
    "\n",
    "    lines[line_no] = lines[line_no][:-1] + word_suffix\n",
    "    lines[line_no + 1] = lines[line_no + 1][len(word_suffix) :]\n",
    "    return lines"
   ]
  }
 ],
 "metadata": {
  "kernelspec": {
   "display_name": "Python 3 (ipykernel)",
   "language": "python",
   "name": "python3"
  },
  "language_info": {
   "codemirror_mode": {
    "name": "ipython",
    "version": 3
   },
   "file_extension": ".py",
   "mimetype": "text/x-python",
   "name": "python",
   "nbconvert_exporter": "python",
   "pygments_lexer": "ipython3",
   "version": "3.9.6"
  }
 },
 "nbformat": 4,
 "nbformat_minor": 4
}
